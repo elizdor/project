{
  "nbformat": 4,
  "nbformat_minor": 0,
  "metadata": {
    "colab": {
      "name": "UserDropoutClassifier.ipynb",
      "provenance": [],
      "collapsed_sections": []
    },
    "kernelspec": {
      "display_name": "Python 3",
      "name": "python3"
    },
    "language_info": {
      "name": "python"
    }
  },
  "cells": [
    {
      "cell_type": "markdown",
      "metadata": {
        "id": "_qoRq_6W6Bf5"
      },
      "source": [
        "\n",
        "\n",
        "---\n",
        "\n",
        "# Import libraries"
      ]
    },
    {
      "cell_type": "code",
      "metadata": {
        "id": "hkvzZ-G0Oj5s"
      },
      "source": [
        "import numpy as np\n",
        "import pandas as pd \n",
        "\n",
        "#visualization \n",
        "import matplotlib.pyplot as plt \n",
        "import seaborn as sns\n",
        "%matplotlib inline \n",
        "\n",
        "#preprocessing \n",
        "import sklearn \n",
        "from sklearn.preprocessing import StandardScaler, MinMaxScaler \n",
        "from sklearn.model_selection import train_test_split, GridSearchCV, ShuffleSplit, learning_curve \n",
        "from sklearn import metrics\n",
        "from sklearn.metrics import accuracy_score, precision_score, recall_score, f1_score, roc_auc_score, plot_roc_curve\n",
        "\n",
        "#models\n",
        "from sklearn.linear_model import LogisticRegression\n",
        "from sklearn.ensemble import RandomForestClassifier, GradientBoostingClassifier\n",
        "\n",
        "from imblearn.over_sampling import RandomOverSampler\n",
        "\n",
        "import warnings\n",
        "warnings.filterwarnings(\"ignore\")"
      ],
      "execution_count": 55,
      "outputs": []
    },
    {
      "cell_type": "markdown",
      "metadata": {
        "id": "VqpSfwMR6nuF"
      },
      "source": [
        "# Download datasets"
      ]
    },
    {
      "cell_type": "code",
      "metadata": {
        "id": "xMbGWy7B6mKS"
      },
      "source": [
        "events_data = pd.read_csv('https://stepik.org/media/attachments/course/4852/event_data_train.zip')\n",
        "submissions_data = pd.read_csv('https://stepik.org/media/attachments/course/4852/submissions_data_train.zip')"
      ],
      "execution_count": 56,
      "outputs": []
    },
    {
      "cell_type": "markdown",
      "metadata": {
        "id": "clMMhZRL6t4g"
      },
      "source": [
        "**Описание данных**:\n",
        "\n",
        "***events_data*** - данные о действиях, которые совершают студенты на уроках (стэпах): \n",
        "\n",
        "\n",
        "*   *step_id* - id урока (стэпа);\n",
        "*   *user_id* - анонимизированный id юзера;\n",
        "*   *timestamp* - время наступления события в формате unix date;\n",
        "*   *action* - события, возможные значения (discovered: переход на стэп; viewed: просмотр стэпа; started_attempt: начал решать; passed: сдал).\n",
        "\n",
        "***submissions_data*** - данные о времени и статусах сабмитов к практическим заданиям:\n",
        "\n",
        "\n",
        "*   *step_id* - id стэпа;\n",
        "*   *timestamp* - время отправки решения в формате unix date;\n",
        "*   *submission_status* - статус решения;\n",
        "*   *user_id* - анонимизированный id юзера.\n",
        "\n"
      ]
    },
    {
      "cell_type": "markdown",
      "metadata": {
        "id": "TzGtETYj66dA"
      },
      "source": [
        "# Set the parameters"
      ]
    },
    {
      "cell_type": "code",
      "metadata": {
        "id": "bqn0cBFj620W"
      },
      "source": [
        "random_state = 0 \n",
        "\n",
        "metrics_all = {1:'accurancy', 2:'precision', 3:'recall', 4:'f1', 5:'rocauc_score'}\n",
        "\n",
        "latest_date_of_data = max(events_data.timestamp.max(), submissions_data.timestamp.max())\n",
        "passed_course_score = 40 #int(76*0.9)\n",
        "seconds_in_day = 24*60*60"
      ],
      "execution_count": 57,
      "outputs": []
    },
    {
      "cell_type": "code",
      "metadata": {
        "id": "8Rvjtlph7BpU"
      },
      "source": [
        "cv_n_split = 3\n",
        "test_split_size = 0.15\n",
        "metrics_now = [1, 2, 3, 5]"
      ],
      "execution_count": 58,
      "outputs": []
    },
    {
      "cell_type": "code",
      "metadata": {
        "id": "7OGr4il77D7N"
      },
      "source": [
        "drop_out_threshold = 20 * seconds_in_day\n",
        "learning_time_threshold = 3 * seconds_in_day"
      ],
      "execution_count": 59,
      "outputs": []
    },
    {
      "cell_type": "markdown",
      "metadata": {
        "id": "2rCK00zV7Kag"
      },
      "source": [
        "# Feature engineering & Exploratory data analysis"
      ]
    },
    {
      "cell_type": "code",
      "metadata": {
        "id": "7ZiTACwN7GjO"
      },
      "source": [
        "#разбираемся с датами\n",
        "def add_date(df):\n",
        "  '''\n",
        "  переводит timestamp в формат datetime и перзаписывает в новую колонку, \n",
        "  добавляет колонку с датой\n",
        "  '''\n",
        "  df['date'] = pd.to_datetime(df.timestamp, unit='s')\n",
        "  df['day'] = df.date.dt.date\n",
        "\n",
        "add_date(events_data)\n",
        "add_date(submissions_data)"
      ],
      "execution_count": 60,
      "outputs": []
    },
    {
      "cell_type": "code",
      "metadata": {
        "colab": {
          "base_uri": "https://localhost:8080/",
          "height": 299
        },
        "id": "LdTVhExw7Sj8",
        "outputId": "5413acae-e7ef-4a58-8167-1d7f4ed3aa7c"
      },
      "source": [
        "#определяем количество дней после которого можно считать что пользователь дропнулся \n",
        "gap_data = events_data[['user_id', 'day', 'timestamp']].drop_duplicates(subset=['user_id', 'day'])\\\n",
        "    .groupby('user_id').timestamp.apply(np.array)\\\n",
        "    .apply(np.diff).values\n",
        "gap_data = pd.Series(np.concatenate(gap_data, axis=0) / (24*60*60))\n",
        "gap_data[gap_data<100].hist()\n",
        "print('95% of the data lower than', gap_data.quantile(0.95))\n",
        "print('90% of the data lower than', gap_data.quantile(0.9))"
      ],
      "execution_count": 61,
      "outputs": [
        {
          "output_type": "stream",
          "text": [
            "95% of the data lower than 59.760440972222156\n",
            "90% of the data lower than 18.325995370370403\n"
          ],
          "name": "stdout"
        },
        {
          "output_type": "display_data",
          "data": {
            "image/png": "[encoded data removed]",
            "text/plain": [
              "<Figure size 432x288 with 1 Axes>"
            ]
          },
          "metadata": {
            "tags": [],
            "needs_background": "light"
          }
        }
      ]
    },
    {
      "cell_type": "code",
      "metadata": {
        "colab": {
          "base_uri": "https://localhost:8080/",
          "height": 204
        },
        "id": "EC2AHp_77XYd",
        "outputId": "9257d32b-fac5-4f02-ad54-03d3a420dca8"
      },
      "source": [
        "#создадим датафрейм с данными, необходимыми для определения целевой переменной и тренировочной выборки \n",
        "#человек прошел курс если правильно ответил на 90% степов с вопросами - 68 (76*0,9); дропнулся если после последнего посещения курса прошло более 20 дней.\n",
        "#в остальных случаях человек считается проходящим курс без определенного статуса\n",
        "#обучения проводим на пользователях, которые либо ушли, либо уже прошли курс\n",
        "\n",
        "data_to_targetvariable = submissions_data.drop_duplicates(subset=['user_id', 'step_id', 'submission_status'])\\\n",
        "        .pivot_table(index='user_id', columns='submission_status', values='step_id', aggfunc='count', fill_value=0)\\\n",
        "        .reset_index()[['user_id', 'correct']]\n",
        "\n",
        "data_to_targetvariable = data_to_targetvariable.merge(\n",
        "    events_data.groupby('user_id', as_index=False).timestamp.max(),\n",
        "    on='user_id', how='right').fillna(0).rename({'timestamp':'last_timestamp'}, axis=1)\n",
        "\n",
        "data_to_targetvariable['is_gone_user'] = (latest_date_of_data - data_to_targetvariable.last_timestamp) > drop_out_threshold\n",
        "data_to_targetvariable['passed_course'] = data_to_targetvariable.correct >= passed_course_score\n",
        "\n",
        "data_to_targetvariable.head()"
      ],
      "execution_count": 62,
      "outputs": [
        {
          "output_type": "execute_result",
          "data": {
            "text/html": [
              "<div>\n",
              "<style scoped>\n",
              "    .dataframe tbody tr th:only-of-type {\n",
              "        vertical-align: middle;\n",
              "    }\n",
              "\n",
              "    .dataframe tbody tr th {\n",
              "        vertical-align: top;\n",
              "    }\n",
              "\n",
              "    .dataframe thead th {\n",
              "        text-align: right;\n",
              "    }\n",
              "</style>\n",
              "<table border=\"1\" class=\"dataframe\">\n",
              "  <thead>\n",
              "    <tr style=\"text-align: right;\">\n",
              "      <th></th>\n",
              "      <th>user_id</th>\n",
              "      <th>correct</th>\n",
              "      <th>last_timestamp</th>\n",
              "      <th>is_gone_user</th>\n",
              "      <th>passed_course</th>\n",
              "    </tr>\n",
              "  </thead>\n",
              "  <tbody>\n",
              "    <tr>\n",
              "      <th>0</th>\n",
              "      <td>1</td>\n",
              "      <td>0.0</td>\n",
              "      <td>1472827464</td>\n",
              "      <td>True</td>\n",
              "      <td>False</td>\n",
              "    </tr>\n",
              "    <tr>\n",
              "      <th>1</th>\n",
              "      <td>2</td>\n",
              "      <td>2.0</td>\n",
              "      <td>1519226966</td>\n",
              "      <td>True</td>\n",
              "      <td>False</td>\n",
              "    </tr>\n",
              "    <tr>\n",
              "      <th>2</th>\n",
              "      <td>3</td>\n",
              "      <td>29.0</td>\n",
              "      <td>1444581588</td>\n",
              "      <td>True</td>\n",
              "      <td>False</td>\n",
              "    </tr>\n",
              "    <tr>\n",
              "      <th>3</th>\n",
              "      <td>5</td>\n",
              "      <td>2.0</td>\n",
              "      <td>1499859939</td>\n",
              "      <td>True</td>\n",
              "      <td>False</td>\n",
              "    </tr>\n",
              "    <tr>\n",
              "      <th>4</th>\n",
              "      <td>7</td>\n",
              "      <td>0.0</td>\n",
              "      <td>1521634660</td>\n",
              "      <td>True</td>\n",
              "      <td>False</td>\n",
              "    </tr>\n",
              "  </tbody>\n",
              "</table>\n",
              "</div>"
            ],
            "text/plain": [
              "   user_id  correct  last_timestamp  is_gone_user  passed_course\n",
              "0        1      0.0      1472827464          True          False\n",
              "1        2      2.0      1519226966          True          False\n",
              "2        3     29.0      1444581588          True          False\n",
              "3        5      2.0      1499859939          True          False\n",
              "4        7      0.0      1521634660          True          False"
            ]
          },
          "metadata": {
            "tags": []
          },
          "execution_count": 62
        }
      ]
    },
    {
      "cell_type": "code",
      "metadata": {
        "colab": {
          "base_uri": "https://localhost:8080/",
          "height": 204
        },
        "id": "Xi8dNoyt7dyF",
        "outputId": "77f44d8f-3763-4669-d247-0230f0fecbbd"
      },
      "source": [
        "#чтобы делать выводы на основе первых трех дней, который юзер проводит на платформе, нужно отобрать только те действия, \n",
        "#которые юзер совершил в первые три дня\n",
        "#сначала создаем табличку где собираем данные о дате первой сессии и считаем три дня от нее\n",
        "\n",
        "user_min_time = events_data.groupby('user_id', as_index=False).agg({'timestamp':'min'}).rename({'timestamp':'min_timestamp'}, axis=1)\n",
        "user_min_time['user_learning_time_threshold'] = user_min_time.user_id.map(str) + '_' + \\\n",
        "                                                (user_min_time.min_timestamp + learning_time_threshold).map(str)\n",
        "\n",
        "user_min_time.head()"
      ],
      "execution_count": 63,
      "outputs": [
        {
          "output_type": "execute_result",
          "data": {
            "text/html": [
              "<div>\n",
              "<style scoped>\n",
              "    .dataframe tbody tr th:only-of-type {\n",
              "        vertical-align: middle;\n",
              "    }\n",
              "\n",
              "    .dataframe tbody tr th {\n",
              "        vertical-align: top;\n",
              "    }\n",
              "\n",
              "    .dataframe thead th {\n",
              "        text-align: right;\n",
              "    }\n",
              "</style>\n",
              "<table border=\"1\" class=\"dataframe\">\n",
              "  <thead>\n",
              "    <tr style=\"text-align: right;\">\n",
              "      <th></th>\n",
              "      <th>user_id</th>\n",
              "      <th>min_timestamp</th>\n",
              "      <th>user_learning_time_threshold</th>\n",
              "    </tr>\n",
              "  </thead>\n",
              "  <tbody>\n",
              "    <tr>\n",
              "      <th>0</th>\n",
              "      <td>1</td>\n",
              "      <td>1472827464</td>\n",
              "      <td>1_1473086664</td>\n",
              "    </tr>\n",
              "    <tr>\n",
              "      <th>1</th>\n",
              "      <td>2</td>\n",
              "      <td>1514383364</td>\n",
              "      <td>2_1514642564</td>\n",
              "    </tr>\n",
              "    <tr>\n",
              "      <th>2</th>\n",
              "      <td>3</td>\n",
              "      <td>1434358476</td>\n",
              "      <td>3_1434617676</td>\n",
              "    </tr>\n",
              "    <tr>\n",
              "      <th>3</th>\n",
              "      <td>5</td>\n",
              "      <td>1466156809</td>\n",
              "      <td>5_1466416009</td>\n",
              "    </tr>\n",
              "    <tr>\n",
              "      <th>4</th>\n",
              "      <td>7</td>\n",
              "      <td>1521634660</td>\n",
              "      <td>7_1521893860</td>\n",
              "    </tr>\n",
              "  </tbody>\n",
              "</table>\n",
              "</div>"
            ],
            "text/plain": [
              "   user_id  min_timestamp user_learning_time_threshold\n",
              "0        1     1472827464                 1_1473086664\n",
              "1        2     1514383364                 2_1514642564\n",
              "2        3     1434358476                 3_1434617676\n",
              "3        5     1466156809                 5_1466416009\n",
              "4        7     1521634660                 7_1521893860"
            ]
          },
          "metadata": {
            "tags": []
          },
          "execution_count": 63
        }
      ]
    },
    {
      "cell_type": "code",
      "metadata": {
        "id": "Cer_dxts7pKC"
      },
      "source": [
        "def select_kdays_data(df):\n",
        "  '''\n",
        "  отбирает данные первых k дней для каждого юзера\n",
        "  '''\n",
        "  df['user_time'] = df.user_id.map(str) + '_' + df.timestamp.map(str)\n",
        "  df = df.merge(user_min_time[['user_id', 'user_learning_time_threshold']], how='outer')\n",
        "  data_train = df[df.user_time <= df.user_learning_time_threshold]\n",
        "  if data_train.groupby('user_id').day.nunique().max() != (learning_time_threshold / seconds_in_day + 1):\n",
        "    print('Something went wrong')\n",
        "  return df, data_train \n",
        "\n",
        "events_data, events_data_train = select_kdays_data(events_data)\n",
        "submissions_data, submissions_data_train = select_kdays_data(submissions_data)"
      ],
      "execution_count": 64,
      "outputs": []
    },
    {
      "cell_type": "code",
      "metadata": {
        "colab": {
          "base_uri": "https://localhost:8080/",
          "height": 204
        },
        "id": "wsjbNOkPJeIk",
        "outputId": "702d9e5b-367d-40c8-a8f0-81eea2ac8ac8"
      },
      "source": [
        "#нужно посчитать сколько раз пользователь неправильно проходил последний шаг и прошел ли он его\n",
        "last_step_data = submissions_data_train.groupby('user_id').step_id.max().reset_index()\n",
        "submissions_data_train['users_step'] = submissions_data_train.user_id.map(str) + '_' + submissions_data_train.step_id.map(str)\n",
        "last_step_data['users_laststep'] = last_step_data.user_id.map(str) + '_' + last_step_data.step_id.map(str)\n",
        "last_step_data = submissions_data_train.merge(last_step_data[['user_id', 'users_laststep']], on='user_id', how='outer')\\\n",
        "                                                     [['step_id', 'user_id', 'submission_status', 'users_step', 'users_laststep']]\n",
        "last_step_data = last_step_data[last_step_data.users_step == last_step_data.users_laststep]\n",
        "last_step_data = last_step_data.pivot_table(index='user_id', columns='submission_status', \n",
        "                                                aggfunc='count', values='step_id', fill_value=0).reset_index()\\\n",
        "                                                .rename({'wrong':'wrongtried_laststep'}, axis=1)\n",
        "last_step_data['passed_laststep'] = np.where(np.array(last_step_data.correct)>0, 1, 0)\n",
        "last_step_data = last_step_data.drop('correct', axis=1)\n",
        "last_step_data.head()"
      ],
      "execution_count": 65,
      "outputs": [
        {
          "output_type": "execute_result",
          "data": {
            "text/html": [
              "<div>\n",
              "<style scoped>\n",
              "    .dataframe tbody tr th:only-of-type {\n",
              "        vertical-align: middle;\n",
              "    }\n",
              "\n",
              "    .dataframe tbody tr th {\n",
              "        vertical-align: top;\n",
              "    }\n",
              "\n",
              "    .dataframe thead th {\n",
              "        text-align: right;\n",
              "    }\n",
              "</style>\n",
              "<table border=\"1\" class=\"dataframe\">\n",
              "  <thead>\n",
              "    <tr style=\"text-align: right;\">\n",
              "      <th>submission_status</th>\n",
              "      <th>user_id</th>\n",
              "      <th>wrongtried_laststep</th>\n",
              "      <th>passed_laststep</th>\n",
              "    </tr>\n",
              "  </thead>\n",
              "  <tbody>\n",
              "    <tr>\n",
              "      <th>0</th>\n",
              "      <td>2</td>\n",
              "      <td>0</td>\n",
              "      <td>1</td>\n",
              "    </tr>\n",
              "    <tr>\n",
              "      <th>1</th>\n",
              "      <td>3</td>\n",
              "      <td>0</td>\n",
              "      <td>1</td>\n",
              "    </tr>\n",
              "    <tr>\n",
              "      <th>2</th>\n",
              "      <td>8</td>\n",
              "      <td>0</td>\n",
              "      <td>1</td>\n",
              "    </tr>\n",
              "    <tr>\n",
              "      <th>3</th>\n",
              "      <td>14</td>\n",
              "      <td>1</td>\n",
              "      <td>0</td>\n",
              "    </tr>\n",
              "    <tr>\n",
              "      <th>4</th>\n",
              "      <td>16</td>\n",
              "      <td>0</td>\n",
              "      <td>1</td>\n",
              "    </tr>\n",
              "  </tbody>\n",
              "</table>\n",
              "</div>"
            ],
            "text/plain": [
              "submission_status  user_id  wrongtried_laststep  passed_laststep\n",
              "0                        2                    0                1\n",
              "1                        3                    0                1\n",
              "2                        8                    0                1\n",
              "3                       14                    1                0\n",
              "4                       16                    0                1"
            ]
          },
          "metadata": {
            "tags": []
          },
          "execution_count": 65
        }
      ]
    },
    {
      "cell_type": "code",
      "metadata": {
        "id": "Ug1dfc7X7xfy"
      },
      "source": [
        "  #собираем данные, необходимые для обучения модели: количество активных дней из трех доступных, количество пройденых степов\n",
        "  #количество правильных и неправильных ответов, их соотношение и количество просмотренных степов\n",
        "  \n",
        "  X = submissions_data_train.groupby('user_id', as_index=False).day.nunique().rename({'day':'days'}, axis=1)\n",
        "  steps_tried = submissions_data_train.groupby('user_id', as_index=False).step_id.nunique().rename(columns={'step_id':'steps_tried'})\n",
        "  X = X.merge(steps_tried, on='user_id', how='outer')\n",
        "  X = X.merge(submissions_data_train.pivot_table(index='user_id', \n",
        "                                     columns='submission_status', \n",
        "                                     values='step_id',\n",
        "                                     aggfunc='count',\n",
        "                                     fill_value=0).reset_index())\n",
        "  X['correct_ratio'] = X.correct / (X.correct + X.wrong)\n",
        "  X = X.merge(events_data_train.pivot_table(index='user_id', columns='action', values='step_id', aggfunc='count', fill_value=0)\\\n",
        "                              .reset_index()[['user_id', 'viewed']])\n",
        "  X = X.merge(data_to_targetvariable[['user_id', 'passed_course', 'is_gone_user']], how='outer').fillna(0)\n",
        "  X = X.merge(last_step_data, on='user_id', how='outer').fillna(0)"
      ],
      "execution_count": 89,
      "outputs": []
    },
    {
      "cell_type": "code",
      "metadata": {
        "colab": {
          "base_uri": "https://localhost:8080/"
        },
        "id": "uzjBWfgSU-WV",
        "outputId": "f15d1f0f-dad9-4075-9374-139595cd681f"
      },
      "source": [
        "X.info()"
      ],
      "execution_count": 67,
      "outputs": [
        {
          "output_type": "stream",
          "text": [
            "<class 'pandas.core.frame.DataFrame'>\n",
            "Int64Index: 19234 entries, 0 to 19233\n",
            "Data columns (total 11 columns):\n",
            " #   Column               Non-Null Count  Dtype  \n",
            "---  ------               --------------  -----  \n",
            " 0   user_id              19234 non-null  int64  \n",
            " 1   days                 19234 non-null  float64\n",
            " 2   steps_tried          19234 non-null  float64\n",
            " 3   correct              19234 non-null  float64\n",
            " 4   wrong                19234 non-null  float64\n",
            " 5   correct_ratio        19234 non-null  float64\n",
            " 6   viewed               19234 non-null  float64\n",
            " 7   passed_course        19234 non-null  bool   \n",
            " 8   is_gone_user         19234 non-null  bool   \n",
            " 9   wrongtried_laststep  19234 non-null  float64\n",
            " 10  passed_laststep      19234 non-null  float64\n",
            "dtypes: bool(2), float64(8), int64(1)\n",
            "memory usage: 1.5 MB\n"
          ],
          "name": "stdout"
        }
      ]
    },
    {
      "cell_type": "code",
      "metadata": {
        "colab": {
          "base_uri": "https://localhost:8080/",
          "height": 204
        },
        "id": "6x0DNaM373at",
        "outputId": "13c78afa-16cb-4aee-8146-a061559096e4"
      },
      "source": [
        "#из всех данных нам нужно выбрать пользователей, которые уже либо сдали, либо ушли, остальных откидываем, \n",
        "#так как, на данный момент, мы не можем их точно никак класифицировать \n",
        "\n",
        "X = X[-((X.passed_course==False)&(X.is_gone_user==False))]\n",
        "y = X.passed_course\n",
        "y = pd.Series(np.where(np.array(y)==True, 1, 0))\n",
        "X = X.drop(['passed_course', 'is_gone_user', 'user_id'], axis=1)\n",
        "X.head()"
      ],
      "execution_count": 90,
      "outputs": [
        {
          "output_type": "execute_result",
          "data": {
            "text/html": [
              "<div>\n",
              "<style scoped>\n",
              "    .dataframe tbody tr th:only-of-type {\n",
              "        vertical-align: middle;\n",
              "    }\n",
              "\n",
              "    .dataframe tbody tr th {\n",
              "        vertical-align: top;\n",
              "    }\n",
              "\n",
              "    .dataframe thead th {\n",
              "        text-align: right;\n",
              "    }\n",
              "</style>\n",
              "<table border=\"1\" class=\"dataframe\">\n",
              "  <thead>\n",
              "    <tr style=\"text-align: right;\">\n",
              "      <th></th>\n",
              "      <th>days</th>\n",
              "      <th>steps_tried</th>\n",
              "      <th>correct</th>\n",
              "      <th>wrong</th>\n",
              "      <th>correct_ratio</th>\n",
              "      <th>viewed</th>\n",
              "    </tr>\n",
              "  </thead>\n",
              "  <tbody>\n",
              "    <tr>\n",
              "      <th>0</th>\n",
              "      <td>1.0</td>\n",
              "      <td>2.0</td>\n",
              "      <td>2.0</td>\n",
              "      <td>0.0</td>\n",
              "      <td>1.00</td>\n",
              "      <td>9.0</td>\n",
              "    </tr>\n",
              "    <tr>\n",
              "      <th>1</th>\n",
              "      <td>1.0</td>\n",
              "      <td>4.0</td>\n",
              "      <td>4.0</td>\n",
              "      <td>4.0</td>\n",
              "      <td>0.50</td>\n",
              "      <td>20.0</td>\n",
              "    </tr>\n",
              "    <tr>\n",
              "      <th>2</th>\n",
              "      <td>1.0</td>\n",
              "      <td>11.0</td>\n",
              "      <td>9.0</td>\n",
              "      <td>21.0</td>\n",
              "      <td>0.30</td>\n",
              "      <td>154.0</td>\n",
              "    </tr>\n",
              "    <tr>\n",
              "      <th>3</th>\n",
              "      <td>1.0</td>\n",
              "      <td>1.0</td>\n",
              "      <td>0.0</td>\n",
              "      <td>1.0</td>\n",
              "      <td>0.00</td>\n",
              "      <td>9.0</td>\n",
              "    </tr>\n",
              "    <tr>\n",
              "      <th>4</th>\n",
              "      <td>3.0</td>\n",
              "      <td>23.0</td>\n",
              "      <td>23.0</td>\n",
              "      <td>27.0</td>\n",
              "      <td>0.46</td>\n",
              "      <td>132.0</td>\n",
              "    </tr>\n",
              "  </tbody>\n",
              "</table>\n",
              "</div>"
            ],
            "text/plain": [
              "   days  steps_tried  correct  wrong  correct_ratio  viewed\n",
              "0   1.0          2.0      2.0    0.0           1.00     9.0\n",
              "1   1.0          4.0      4.0    4.0           0.50    20.0\n",
              "2   1.0         11.0      9.0   21.0           0.30   154.0\n",
              "3   1.0          1.0      0.0    1.0           0.00     9.0\n",
              "4   3.0         23.0     23.0   27.0           0.46   132.0"
            ]
          },
          "metadata": {
            "tags": []
          },
          "execution_count": 90
        }
      ]
    },
    {
      "cell_type": "markdown",
      "metadata": {
        "id": "vZ8Dqv_u8KZZ"
      },
      "source": [
        "# Preparing to modeling"
      ]
    },
    {
      "cell_type": "code",
      "metadata": {
        "id": "ojY4cZ-68I--"
      },
      "source": [
        "#Standartization\n",
        "scaler = StandardScaler()\n",
        "X = pd.DataFrame(scaler.fit_transform(X), columns = X.columns)\n",
        "\n",
        "#Normalization\n",
        "scaler = MinMaxScaler()\n",
        "X = pd.DataFrame(scaler.fit_transform(X), columns = X.columns)\n",
        "\n",
        "# Synthesis valid as test for selection models\n",
        "X_train, X_test, y_train, y_test = train_test_split(X, y, test_size=test_split_size, random_state=random_state)\n",
        "\n",
        "# Splitting train data for model tuning with cross-validation\n",
        "cv_train = ShuffleSplit(n_splits=cv_n_split, test_size=test_split_size, random_state=random_state)"
      ],
      "execution_count": 91,
      "outputs": []
    },
    {
      "cell_type": "code",
      "metadata": {
        "id": "mjtZbqAb77W4"
      },
      "source": [
        "#у нас несбалансированная выборка, дропнувшихся пользователей почти 90%, поэтому увеличим количество пользователей, которые сдали курс\n",
        "ros = RandomOverSampler(random_state=0)\n",
        "X_train, y_train = ros.fit_resample(X_train, y_train)"
      ],
      "execution_count": 96,
      "outputs": []
    },
    {
      "cell_type": "code",
      "metadata": {
        "id": "3nz7kT-W9R9A"
      },
      "source": [
        "acc_all = np.empty((3, len(metrics_now)*2)).tolist()\n",
        "\n",
        "\n",
        "def acc_metrics_calc(num, model, X_train, X_test, y_train, y_test):\n",
        "  '''\n",
        "  Calculation of accuracy of model by different metrics\n",
        "  '''\n",
        "  train_predict = model.predict(X_train)\n",
        "  test_predict = model.predict(X_test)\n",
        "\n",
        "  global acc_all\n",
        "  \n",
        "  num_acc = 0 \n",
        "  for metric in metrics_now:\n",
        "    if metric == 1:\n",
        "      #accuracy_score\n",
        "      acc_train = round(accuracy_score(y_train, train_predict) * 100, 2)\n",
        "      acc_test = round(accuracy_score(y_test, test_predict) * 100, 2)\n",
        "    elif metric == 2:\n",
        "      #precision_score\n",
        "      acc_train = round(precision_score(y_train, train_predict) * 100, 2)\n",
        "      acc_test = round(precision_score(y_test, test_predict) * 100, 2)\n",
        "    elif metric == 3:\n",
        "      #recall_score \n",
        "      acc_train = round(recall_score(y_train, train_predict) * 100, 2)\n",
        "      acc_test = round(recall_score(y_test, test_predict) * 100, 2)\n",
        "    elif metric == 4:\n",
        "      #f1_score\n",
        "      acc_train = round(f1_score(y_train, train_predict) * 100, 2)\n",
        "      acc_test = round(f1_score(y_test, test_predict) * 100, 2)\n",
        "    elif metric == 5:\n",
        "      #roc_auc_score\n",
        "      acc_train = round(roc_auc_score(y_train, train_predict) * 100, 2)\n",
        "      acc_test = round(roc_auc_score(y_test, test_predict) * 100, 2)\n",
        "    print(metrics_all[metric], 'for train =', acc_train)\n",
        "    print(metrics_all[metric], 'for test =', acc_test)\n",
        "    acc_all[num][num_acc] = acc_train #train\n",
        "    acc_all[num][num_acc+1] = acc_test #test\n",
        "    num_acc += 2"
      ],
      "execution_count": 97,
      "outputs": []
    },
    {
      "cell_type": "code",
      "metadata": {
        "id": "KZka4XsZ95n1"
      },
      "source": [
        "def plot_learning_curve(estimator, title, X, y, cv=cv_train, train_sizes=np.linspace(.1, 1.0, 5), \n",
        "                        random_state=random_state):\n",
        "    \"\"\"\n",
        "    Generate the test and training learning curve.\n",
        "    \n",
        "    \"\"\"\n",
        "    plt.figure(figsize=(20, 5))\n",
        "\n",
        "    plt.title(title)\n",
        "    plt.xlabel(\"Training examples\")\n",
        "    plt.ylabel(\"Score\")\n",
        "\n",
        "    cv_train = ShuffleSplit(n_splits=cv_n_split, test_size=test_split_size, random_state=random_state)\n",
        "    \n",
        "    train_sizes, train_scores, test_scores, fit_times, _ = \\\n",
        "        learning_curve(estimator=estimator, X=X, y=y, cv=cv,\n",
        "                       train_sizes=train_sizes,\n",
        "                       return_times=True)\n",
        "    train_scores_mean = np.mean(train_scores, axis=1)\n",
        "    train_scores_std = np.std(train_scores, axis=1)\n",
        "    test_scores_mean = np.mean(test_scores, axis=1)\n",
        "    test_scores_std = np.std(test_scores, axis=1)\n",
        "    fit_times_mean = np.mean(fit_times, axis=1)\n",
        "    fit_times_std = np.std(fit_times, axis=1)\n",
        "\n",
        "    # Plot learning curve\n",
        "    plt.grid()\n",
        "    plt.fill_between(train_sizes, train_scores_mean - train_scores_std,\n",
        "                         train_scores_mean + train_scores_std, alpha=0.1,\n",
        "                         color=\"r\")\n",
        "    plt.fill_between(train_sizes, test_scores_mean - test_scores_std,\n",
        "                         test_scores_mean + test_scores_std, alpha=0.1,\n",
        "                         color=\"g\")\n",
        "    plt.plot(train_sizes, train_scores_mean, 'o-', color=\"r\",\n",
        "                 label=\"Training score\")\n",
        "    plt.plot(train_sizes, test_scores_mean, 'o-', color=\"g\",\n",
        "                 label=\"Cross-validation score\")\n",
        "    plt.legend(loc=\"best\")\n",
        "\n",
        "    plt.show()\n",
        "    return"
      ],
      "execution_count": 98,
      "outputs": []
    },
    {
      "cell_type": "markdown",
      "metadata": {
        "id": "7i2xsZbB-FUx"
      },
      "source": [
        "# Tuning models and test"
      ]
    },
    {
      "cell_type": "code",
      "metadata": {
        "colab": {
          "base_uri": "https://localhost:8080/"
        },
        "id": "gE584u6S-Bs4",
        "outputId": "b9a540f8-b8f1-4bc8-de58-2bd36beee66f"
      },
      "source": [
        "%%time\n",
        "# Random Forest\n",
        "\n",
        "random_forest = RandomForestClassifier()\n",
        "param_grid = {'n_estimators': [300, 450, 600], 'min_samples_split': [60], 'min_samples_leaf': [20, 30, 40], \n",
        "              'max_features': ['auto'], 'max_depth': [5, 7, 9, 13], 'criterion': ['gini'], 'bootstrap': [False]}\n",
        "random_forest_CV = GridSearchCV(estimator=random_forest, param_grid=param_grid, \n",
        "                             cv=cv_train, verbose=False)\n",
        "random_forest_CV.fit(X_train, y_train)\n",
        "print('Best parameters for Random Forest:', random_forest_CV.best_params_, '\\n')\n",
        "acc_metrics_calc(1, random_forest_CV, X_train, X_test, y_train, y_test)"
      ],
      "execution_count": 99,
      "outputs": [
        {
          "output_type": "stream",
          "text": [
            "Best parameters for Random Forest: {'bootstrap': False, 'criterion': 'gini', 'max_depth': 13, 'max_features': 'auto', 'min_samples_leaf': 20, 'min_samples_split': 60, 'n_estimators': 450} \n",
            "\n",
            "accurancy for train = 81.11\n",
            "accurancy for test = 78.26\n",
            "precision for train = 79.39\n",
            "precision for test = 29.36\n",
            "recall for train = 84.04\n",
            "recall for test = 78.87\n",
            "rocauc_score for train = 81.11\n",
            "rocauc_score for test = 78.53\n",
            "CPU times: user 9min 6s, sys: 410 ms, total: 9min 7s\n",
            "Wall time: 9min 7s\n"
          ],
          "name": "stdout"
        }
      ]
    },
    {
      "cell_type": "code",
      "metadata": {
        "colab": {
          "base_uri": "https://localhost:8080/",
          "height": 350
        },
        "id": "LEFLgpWF-O-D",
        "outputId": "fd801df7-a43b-4b25-ecdf-6d139de9020b"
      },
      "source": [
        "# Building learning curve of model\n",
        "plot_learning_curve(random_forest, \"Random Forest\", X_train, y_train)"
      ],
      "execution_count": 75,
      "outputs": [
        {
          "output_type": "display_data",
          "data": {
            "image/png": "[encoded data removed]",
            "text/plain": [
              "<Figure size 1440x360 with 1 Axes>"
            ]
          },
          "metadata": {
            "tags": [],
            "needs_background": "light"
          }
        }
      ]
    },
    {
      "cell_type": "code",
      "metadata": {
        "colab": {
          "base_uri": "https://localhost:8080/"
        },
        "id": "KWCsj1Nw-umH",
        "outputId": "915c19ea-0d55-4e22-9426-b1173444fdff"
      },
      "source": [
        "%%time\n",
        "# Gradient Boosting Classifier\n",
        "\n",
        "gradient_boosting = GradientBoostingClassifier()\n",
        "param_grid = {'learning_rate' : [0.001, 0.01, 0.1],\n",
        "              'max_depth': [i for i in range(2,5)],\n",
        "              'min_samples_leaf': [i for i in range(2,5)]}\n",
        "gradient_boosting_CV = GridSearchCV(estimator=gradient_boosting, param_grid=param_grid, \n",
        "                                    cv=cv_train, verbose=False)\n",
        "gradient_boosting_CV.fit(X_train, y_train)\n",
        "print(\"Best parameters for Gradient Boosting Classifier:\", gradient_boosting_CV.best_params_, '\\n')\n",
        "acc_metrics_calc(2, gradient_boosting_CV, X_train, X_test, y_train, y_test)"
      ],
      "execution_count": 76,
      "outputs": [
        {
          "output_type": "stream",
          "text": [
            "Best parameters for Gradient Boosting Classifier: {'learning_rate': 0.1, 'max_depth': 4, 'min_samples_leaf': 2} \n",
            "\n",
            "accurancy for train = 80.24\n",
            "accurancy for test = 76.7\n",
            "precision for train = 77.92\n",
            "precision for test = 27.96\n",
            "recall for train = 84.38\n",
            "recall for test = 79.93\n",
            "rocauc_score for train = 80.24\n",
            "rocauc_score for test = 78.13\n",
            "CPU times: user 2min 11s, sys: 34.8 ms, total: 2min 11s\n",
            "Wall time: 2min 11s\n"
          ],
          "name": "stdout"
        }
      ]
    },
    {
      "cell_type": "code",
      "metadata": {
        "colab": {
          "base_uri": "https://localhost:8080/",
          "height": 350
        },
        "id": "QRQ_yU0q-3lF",
        "outputId": "38070386-0a23-49c6-9acb-b27ada2ccf41"
      },
      "source": [
        "# Building learning curve of model\n",
        "plot_learning_curve(gradient_boosting_CV, \"Gradient Boosting Classifier\", X_train, y_train)"
      ],
      "execution_count": 77,
      "outputs": [
        {
          "output_type": "display_data",
          "data": {
            "image/png": "[encoded data removed]",
            "text/plain": [
              "<Figure size 1440x360 with 1 Axes>"
            ]
          },
          "metadata": {
            "tags": [],
            "needs_background": "light"
          }
        }
      ]
    },
    {
      "cell_type": "code",
      "metadata": {
        "colab": {
          "base_uri": "https://localhost:8080/"
        },
        "id": "gY_is-7J-9mL",
        "outputId": "916f64a5-40bc-402a-d686-6befdd4cce60"
      },
      "source": [
        "%%time\n",
        "# Logistic Regression\n",
        "\n",
        "logreg = LogisticRegression()\n",
        "logreg_CV = GridSearchCV(estimator=logreg, param_grid={'C' : [.1, .3, .5, .7, 1]}, cv=cv_train, verbose=False)\n",
        "logreg_CV.fit(X_train, y_train)\n",
        "acc_metrics_calc(0, logreg_CV, X_train, X_test, y_train, y_test)"
      ],
      "execution_count": 78,
      "outputs": [
        {
          "output_type": "stream",
          "text": [
            "accurancy for train = 77.54\n",
            "accurancy for test = 73.39\n",
            "precision for train = 74.74\n",
            "precision for test = 25.73\n",
            "recall for train = 83.22\n",
            "recall for test = 83.8\n",
            "rocauc_score for train = 77.54\n",
            "rocauc_score for test = 78.0\n",
            "CPU times: user 2.99 s, sys: 2.07 s, total: 5.07 s\n",
            "Wall time: 2.58 s\n"
          ],
          "name": "stdout"
        }
      ]
    },
    {
      "cell_type": "code",
      "metadata": {
        "colab": {
          "base_uri": "https://localhost:8080/",
          "height": 350
        },
        "id": "HtbzkgY6_F8F",
        "outputId": "dafb7dfd-b001-4f03-bfa8-41e85040293a"
      },
      "source": [
        "# Building learning curve of model\n",
        "plot_learning_curve(logreg, \"Logistic Regression\", X_train, y_train)"
      ],
      "execution_count": 79,
      "outputs": [
        {
          "output_type": "display_data",
          "data": {
            "image/png": "[encoded data removed]",
            "text/plain": [
              "<Figure size 1440x360 with 1 Axes>"
            ]
          },
          "metadata": {
            "tags": [],
            "needs_background": "light"
          }
        }
      ]
    },
    {
      "cell_type": "markdown",
      "metadata": {
        "id": "F5DEjkm7_Oj1"
      },
      "source": [
        "# Models comparison"
      ]
    },
    {
      "cell_type": "code",
      "metadata": {
        "colab": {
          "base_uri": "https://localhost:8080/",
          "height": 142
        },
        "id": "4FvNA2Kt_J8E",
        "outputId": "720416dc-a2f5-4dac-f08c-9fe1d034157c"
      },
      "source": [
        "model_data = pd.DataFrame(acc_all, index=['Logistic_Regression', 'Random_Forest', 'Gradient_Boosting_Classifier'], \n",
        "             columns=['acc_tran', 'acc_test', 'pre_train', 'pre_train', \n",
        "                      'rec_train', 'rec_test', 'rocauc_train', 'rocauc_test'])\n",
        "\n",
        "\n",
        "model_data.sort_values(ascending=False, by='rocauc_test')"
      ],
      "execution_count": 80,
      "outputs": [
        {
          "output_type": "execute_result",
          "data": {
            "text/html": [
              "<div>\n",
              "<style scoped>\n",
              "    .dataframe tbody tr th:only-of-type {\n",
              "        vertical-align: middle;\n",
              "    }\n",
              "\n",
              "    .dataframe tbody tr th {\n",
              "        vertical-align: top;\n",
              "    }\n",
              "\n",
              "    .dataframe thead th {\n",
              "        text-align: right;\n",
              "    }\n",
              "</style>\n",
              "<table border=\"1\" class=\"dataframe\">\n",
              "  <thead>\n",
              "    <tr style=\"text-align: right;\">\n",
              "      <th></th>\n",
              "      <th>acc_tran</th>\n",
              "      <th>acc_test</th>\n",
              "      <th>pre_train</th>\n",
              "      <th>pre_train</th>\n",
              "      <th>rec_train</th>\n",
              "      <th>rec_test</th>\n",
              "      <th>rocauc_train</th>\n",
              "      <th>rocauc_test</th>\n",
              "    </tr>\n",
              "  </thead>\n",
              "  <tbody>\n",
              "    <tr>\n",
              "      <th>Random_Forest</th>\n",
              "      <td>80.74</td>\n",
              "      <td>78.37</td>\n",
              "      <td>79.02</td>\n",
              "      <td>29.47</td>\n",
              "      <td>83.69</td>\n",
              "      <td>78.87</td>\n",
              "      <td>80.74</td>\n",
              "      <td>78.59</td>\n",
              "    </tr>\n",
              "    <tr>\n",
              "      <th>Gradient_Boosting_Classifier</th>\n",
              "      <td>80.24</td>\n",
              "      <td>76.70</td>\n",
              "      <td>77.92</td>\n",
              "      <td>27.96</td>\n",
              "      <td>84.38</td>\n",
              "      <td>79.93</td>\n",
              "      <td>80.24</td>\n",
              "      <td>78.13</td>\n",
              "    </tr>\n",
              "    <tr>\n",
              "      <th>Logistic_Regression</th>\n",
              "      <td>77.54</td>\n",
              "      <td>73.39</td>\n",
              "      <td>74.74</td>\n",
              "      <td>25.73</td>\n",
              "      <td>83.22</td>\n",
              "      <td>83.80</td>\n",
              "      <td>77.54</td>\n",
              "      <td>78.00</td>\n",
              "    </tr>\n",
              "  </tbody>\n",
              "</table>\n",
              "</div>"
            ],
            "text/plain": [
              "                              acc_tran  acc_test  ...  rocauc_train  rocauc_test\n",
              "Random_Forest                    80.74     78.37  ...         80.74        78.59\n",
              "Gradient_Boosting_Classifier     80.24     76.70  ...         80.24        78.13\n",
              "Logistic_Regression              77.54     73.39  ...         77.54        78.00\n",
              "\n",
              "[3 rows x 8 columns]"
            ]
          },
          "metadata": {
            "tags": []
          },
          "execution_count": 80
        }
      ]
    },
    {
      "cell_type": "code",
      "metadata": {
        "colab": {
          "base_uri": "https://localhost:8080/"
        },
        "id": "ugQ2YJp_KNKD",
        "outputId": "ec62a630-cb2b-4c50-fc6d-18ff6395ca3b"
      },
      "source": [
        "logreg_CV.best_estimator_.coef_"
      ],
      "execution_count": 81,
      "outputs": [
        {
          "output_type": "execute_result",
          "data": {
            "text/plain": [
              "array([[ 1.97083009,  3.4096496 ,  4.27186381,  0.06828921,  1.06101858,\n",
              "        -0.55031435, -0.93094828, -0.01022641]])"
            ]
          },
          "metadata": {
            "tags": []
          },
          "execution_count": 81
        }
      ]
    },
    {
      "cell_type": "code",
      "metadata": {
        "colab": {
          "base_uri": "https://localhost:8080/"
        },
        "id": "u5s94sUWLXor",
        "outputId": "66ffbd13-5164-488c-f7f4-42f153aef4c2"
      },
      "source": [
        "gradient_boosting_CV.best_estimator_.feature_importances_"
      ],
      "execution_count": 82,
      "outputs": [
        {
          "output_type": "execute_result",
          "data": {
            "text/plain": [
              "array([3.89702063e-02, 5.78448047e-02, 7.66997340e-01, 1.22256373e-02,\n",
              "       6.24924305e-02, 5.54830441e-02, 5.35750399e-03, 6.29033151e-04])"
            ]
          },
          "metadata": {
            "tags": []
          },
          "execution_count": 82
        }
      ]
    },
    {
      "cell_type": "code",
      "metadata": {
        "colab": {
          "base_uri": "https://localhost:8080/"
        },
        "id": "N-ukdVbyNGkh",
        "outputId": "44d4e37f-f1de-4869-ba18-e91962f9981a"
      },
      "source": [
        "random_forest_CV.best_estimator_.feature_importances_"
      ],
      "execution_count": 83,
      "outputs": [
        {
          "output_type": "execute_result",
          "data": {
            "text/plain": [
              "array([0.06883756, 0.22157486, 0.25672978, 0.04059498, 0.09342805,\n",
              "       0.21178954, 0.00418991, 0.10285532])"
            ]
          },
          "metadata": {
            "tags": []
          },
          "execution_count": 83
        }
      ]
    },
    {
      "cell_type": "code",
      "metadata": {
        "colab": {
          "base_uri": "https://localhost:8080/",
          "height": 204
        },
        "id": "-INoGWcuKmh2",
        "outputId": "6a2dcad8-3858-4dee-add0-dcc026b532a5"
      },
      "source": [
        "X.head()"
      ],
      "execution_count": 84,
      "outputs": [
        {
          "output_type": "execute_result",
          "data": {
            "text/html": [
              "<div>\n",
              "<style scoped>\n",
              "    .dataframe tbody tr th:only-of-type {\n",
              "        vertical-align: middle;\n",
              "    }\n",
              "\n",
              "    .dataframe tbody tr th {\n",
              "        vertical-align: top;\n",
              "    }\n",
              "\n",
              "    .dataframe thead th {\n",
              "        text-align: right;\n",
              "    }\n",
              "</style>\n",
              "<table border=\"1\" class=\"dataframe\">\n",
              "  <thead>\n",
              "    <tr style=\"text-align: right;\">\n",
              "      <th></th>\n",
              "      <th>days</th>\n",
              "      <th>steps_tried</th>\n",
              "      <th>correct</th>\n",
              "      <th>wrong</th>\n",
              "      <th>correct_ratio</th>\n",
              "      <th>viewed</th>\n",
              "      <th>wrongtried_laststep</th>\n",
              "      <th>passed_laststep</th>\n",
              "    </tr>\n",
              "  </thead>\n",
              "  <tbody>\n",
              "    <tr>\n",
              "      <th>0</th>\n",
              "      <td>0.25</td>\n",
              "      <td>0.026316</td>\n",
              "      <td>0.026316</td>\n",
              "      <td>0.000000</td>\n",
              "      <td>1.00</td>\n",
              "      <td>0.011628</td>\n",
              "      <td>0.000000</td>\n",
              "      <td>1.0</td>\n",
              "    </tr>\n",
              "    <tr>\n",
              "      <th>1</th>\n",
              "      <td>0.25</td>\n",
              "      <td>0.052632</td>\n",
              "      <td>0.052632</td>\n",
              "      <td>0.009009</td>\n",
              "      <td>0.50</td>\n",
              "      <td>0.025840</td>\n",
              "      <td>0.000000</td>\n",
              "      <td>1.0</td>\n",
              "    </tr>\n",
              "    <tr>\n",
              "      <th>2</th>\n",
              "      <td>0.25</td>\n",
              "      <td>0.144737</td>\n",
              "      <td>0.118421</td>\n",
              "      <td>0.047297</td>\n",
              "      <td>0.30</td>\n",
              "      <td>0.198966</td>\n",
              "      <td>0.000000</td>\n",
              "      <td>1.0</td>\n",
              "    </tr>\n",
              "    <tr>\n",
              "      <th>3</th>\n",
              "      <td>0.25</td>\n",
              "      <td>0.013158</td>\n",
              "      <td>0.000000</td>\n",
              "      <td>0.002252</td>\n",
              "      <td>0.00</td>\n",
              "      <td>0.011628</td>\n",
              "      <td>0.032258</td>\n",
              "      <td>0.0</td>\n",
              "    </tr>\n",
              "    <tr>\n",
              "      <th>4</th>\n",
              "      <td>0.75</td>\n",
              "      <td>0.302632</td>\n",
              "      <td>0.302632</td>\n",
              "      <td>0.060811</td>\n",
              "      <td>0.46</td>\n",
              "      <td>0.170543</td>\n",
              "      <td>0.000000</td>\n",
              "      <td>1.0</td>\n",
              "    </tr>\n",
              "  </tbody>\n",
              "</table>\n",
              "</div>"
            ],
            "text/plain": [
              "   days  steps_tried   correct  ...    viewed  wrongtried_laststep  passed_laststep\n",
              "0  0.25     0.026316  0.026316  ...  0.011628             0.000000              1.0\n",
              "1  0.25     0.052632  0.052632  ...  0.025840             0.000000              1.0\n",
              "2  0.25     0.144737  0.118421  ...  0.198966             0.000000              1.0\n",
              "3  0.25     0.013158  0.000000  ...  0.011628             0.032258              0.0\n",
              "4  0.75     0.302632  0.302632  ...  0.170543             0.000000              1.0\n",
              "\n",
              "[5 rows x 8 columns]"
            ]
          },
          "metadata": {
            "tags": []
          },
          "execution_count": 84
        }
      ]
    },
    {
      "cell_type": "markdown",
      "metadata": {
        "id": "An1QkgZi-WfA"
      },
      "source": [
        "**Переменные, которые вносят самый большой вклад в модель:** количество правильно решенных задач, количество просмотренных уроков, количество заданий, которые пользователь попробовал пройти, а также соотношение решенных заданий ко всем. \n",
        "Эти фичи могут стать отправной точкой к увеличению процента пользователей, которые проходят курс. \n",
        "\n",
        "**Возможные предложения:**\n",
        "* добавить подсказки к \"сложным\" заданиям, которые сложнее всего даются пользователям;\n",
        "\n",
        "* отправлять пуши пользоватлям с необычными посылами, например, его возможными результатами, которые он сможет достичь после прохождение курса. Пример: \"Еще немного и ты аналитик. До прохождения курса осталось х заданий\".\n",
        "* провести А/В-тесты для увеличения удержания пользователей на курсе (увеличение количество пройденных уроков). Например, использование элементов геймификации, раздробление уроков на более мелкие части и т.п.\n",
        "* собрать больше данных о пользователях. Например, количество написанных комментариев и другой активности на курсе, информация о пользователе (образование, место проживание, возраст и т.п.), информация о прохождении других курсов и т.п."
      ]
    }
  ]
}